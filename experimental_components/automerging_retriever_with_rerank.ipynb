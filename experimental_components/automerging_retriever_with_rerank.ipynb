{
 "cells": [
  {
   "cell_type": "code",
   "execution_count": 17,
   "metadata": {},
   "outputs": [],
   "source": [
    "import os\n",
    "import dotenv\n",
    "import sys\n",
    "dotenv.load_dotenv()\n",
    "\n",
    "\n",
    "from pathlib import Path\n",
    "\n",
    "from llama_index.readers.file import PDFReader\n",
    "from llama_index.readers.file import PyMuPDFReader\n",
    "from llama_index.core import Document\n",
    "\n",
    "\n",
    "from llama_index.core.node_parser import (\n",
    "    HierarchicalNodeParser,\n",
    "    SentenceSplitter,\n",
    ")\n",
    "\n",
    "from llama_index.core.node_parser import get_leaf_nodes, get_root_nodes\n",
    "\n",
    "from llama_index.core.storage.docstore import SimpleDocumentStore\n",
    "from llama_index.core import StorageContext\n",
    "from llama_index.llms.groq import Groq\n",
    "\n",
    "from llama_index.core import VectorStoreIndex\n",
    "from llama_index.core.retrievers import AutoMergingRetriever\n",
    "\n",
    "from llama_index.core.postprocessor import LLMRerank\n",
    "from llama_index.embeddings.openai import OpenAIEmbedding\n",
    "\n",
    "from llama_index.core.response.notebook_utils import display_source_node\n",
    "from llama_index.core import QueryBundle\n"
   ]
  },
  {
   "cell_type": "code",
   "execution_count": 25,
   "metadata": {},
   "outputs": [],
   "source": [
    "loader = PyMuPDFReader()\n",
    "docs0 = loader.load(file_path=Path(\"./data/sse_lectures/01_intro.pdf\"))\n",
    "doc_text = \"\\n\\n\".join([d.get_content() for d in docs0])\n",
    "docs = [Document(text=doc_text)]"
   ]
  },
  {
   "cell_type": "code",
   "execution_count": 26,
   "metadata": {},
   "outputs": [
    {
     "name": "stdout",
     "output_type": "stream",
     "text": [
      "34\n"
     ]
    }
   ],
   "source": [
    "node_parser = HierarchicalNodeParser.from_defaults()\n",
    "nodes = node_parser.get_nodes_from_documents(docs)\n",
    "print(len(nodes))\n",
    "leaf_nodes = get_leaf_nodes(nodes)\n",
    "len(leaf_nodes)\n",
    "root_nodes = get_root_nodes(nodes)"
   ]
  },
  {
   "cell_type": "code",
   "execution_count": 27,
   "metadata": {},
   "outputs": [],
   "source": [
    "docstore = SimpleDocumentStore()\n",
    "\n",
    "# insert nodes into docstore\n",
    "docstore.add_documents(nodes)\n",
    "\n",
    "\n",
    "storage_context = StorageContext.from_defaults(docstore=docstore)\n",
    "\n",
    "embed_model = OpenAIEmbedding(model=\"text-embedding-3-small\")\n",
    "\n",
    "llm = Groq(model=\"llama-3.3-70b-versatile\")\n",
    "\n",
    "base_index = VectorStoreIndex(\n",
    "    leaf_nodes,\n",
    "    storage_context=storage_context,\n",
    "    embed_model=embed_model,\n",
    ")\n",
    "base_index.storage_context.persist(persist_dir=\"./data/custom_retriever_storage\")\n"
   ]
  },
  {
   "cell_type": "code",
   "execution_count": 5,
   "metadata": {},
   "outputs": [],
   "source": [
    "base_retriever = base_index.as_retriever(similarity_top_k=12)\n",
    "retriever = AutoMergingRetriever(base_retriever, storage_context, verbose=True)"
   ]
  },
  {
   "cell_type": "code",
   "execution_count": 29,
   "metadata": {},
   "outputs": [
    {
     "name": "stdout",
     "output_type": "stream",
     "text": [
      "> Merging 4 nodes into parent node.\n",
      "> Parent node id: 7c7ea415-1395-4fee-9382-e643ea3db9a0.\n",
      "> Parent node text: Social\n",
      "• concerned with societal communities (groups of people, \n",
      "organisations) and the factors t...\n",
      "\n",
      "> Merging 5 nodes into parent node.\n",
      "> Parent node id: d40accf0-8b6e-4165-b85d-1e328df1cd7c.\n",
      "> Parent node text: Carolin Brandt \n",
      "C.E.Brandt@tudelft.nl \n",
      "Luís Cruz \n",
      "L.Cruz@tudelft.nl \n",
      "1. Intro Class\n",
      "Sustainable S...\n",
      "\n"
     ]
    }
   ],
   "source": [
    "query = \"what is a energy profiler?\"\n",
    "query_bundle = QueryBundle(query_str=query)\n",
    "auto_merged_nodes = retriever.retrieve(query_bundle)"
   ]
  },
  {
   "cell_type": "code",
   "execution_count": 30,
   "metadata": {},
   "outputs": [
    {
     "data": {
      "text/markdown": [
       "**Node ID:** f9ae3d5a-f81a-4519-a82d-c1891445dfb7<br>**Similarity:** 0.39757779070114313<br>**Text:** 32\n",
       "https://mattermost.tudelft.nl/signup_user_complete/?id=1nj9tk6usjf8xmsws8wpq3s5uy&md=link&sbr=su\n",
       "\n",
       "\n",
       "Project 1\n",
       "• Goal: Measure the energy consumption of software applications. \n",
       "• Approach: energy measurement tools; use case testing. \n",
       "• Deliverable: blog-style report (approx. 2500 words) \n",
       "• Deadline: Week 3, Feb 28, 2025 \n",
       "• Group size: 4–5\n",
       "33<br>"
      ],
      "text/plain": [
       "<IPython.core.display.Markdown object>"
      ]
     },
     "metadata": {},
     "output_type": "display_data"
    },
    {
     "data": {
      "text/markdown": [
       "**Node ID:** c8d79871-0415-4f65-b4e3-84366389d1a6<br>**Similarity:** 0.32170663596973514<br>**Text:** Rebound effect*\n",
       "• Energy consumption decreases ↓↓ but demand also increases ↑↑. \n",
       "• *a.k.a. Jevons Paradox in economics; Downs–Thomson paradox in mobility.\n",
       "Energy per prompt\n",
       "Prompts\n",
       "100\n",
       "80\n",
       "30\n",
       "38\n",
       "Chat \n",
       "GPT\n",
       "“Energy-efficient” \n",
       "Chat GPT\n",
       "0<br>"
      ],
      "text/plain": [
       "<IPython.core.display.Markdown object>"
      ]
     },
     "metadata": {},
     "output_type": "display_data"
    },
    {
     "data": {
      "text/markdown": [
       "**Node ID:** 7c7ea415-1395-4fee-9382-e643ea3db9a0<br>**Similarity:** 0.2407077639856644<br>**Text:** Social\n",
       "• concerned with societal communities (groups of people, \n",
       "organisations) and the factors that erode trust in society. \n",
       "• Examples: \n",
       "• Social equity \n",
       "• Justice \n",
       "• Employment \n",
       "• Democracy \n",
       "• … \n",
       "• Also includes compliance with policies and regulations \n",
       "12\n",
       "\n",
       "\n",
       "Environmental Sustainability\n",
       "• the branch of Software Engineering that studies \n",
       "the development of software that has minimal \n",
       "impact in our planet throughout its whole \n",
       "lifecycle. \n",
       "• Looking at software at different levels: \n",
       "• Developing, Using, Serving, … \n",
       "• Also includes e-waste. \n",
       "• Almost identical to Green Software. (?)\n",
       "13\n",
       "Bordallo II\n",
       "\n",
       "\n",
       "Green Software\n",
       "• Sustainability and energy efficiency. \n",
       "• Building energy-efficient software is important also from a \n",
       "technical sustainability POV. \n",
       "• Smartphones, smart wearables, IoT devices, etc. run on limited \n",
       "power resources. \n",
       "• Developing software to these devices require energy-efficiency \n",
       "testing and improvement. \n",
       "• It also leads to environmental sustainability (e.g., less batter...<br>"
      ],
      "text/plain": [
       "<IPython.core.display.Markdown object>"
      ]
     },
     "metadata": {},
     "output_type": "display_data"
    },
    {
     "data": {
      "text/markdown": [
       "**Node ID:** d40accf0-8b6e-4165-b85d-1e328df1cd7c<br>**Similarity:** 0.22161507505507022<br>**Text:** Carolin Brandt \n",
       "C.E.Brandt@tudelft.nl \n",
       "Luís Cruz \n",
       "L.Cruz@tudelft.nl \n",
       "1. Intro Class\n",
       "Sustainable Software Engineering \n",
       "CS4575\n",
       "SustainableSE 2025\n",
       "Enrique Barba Roque \n",
       "E.BarbaRoque@tudelft.nl\n",
       "\n",
       "\n",
       "1. Intro to Sustainable SE \n",
       "2. Intro to the course\n",
       "2\n",
       "\n",
       "\n",
       "of the electricity consumed worldwide \n",
       "by 2040 will stem from ICT\n",
       "14%\n",
       "\n",
       "\n",
       "4\n",
       "https://xkcd.com/1007/\n",
       "\n",
       "\n",
       "Buzz words\n",
       "• Eco-friendly \n",
       "• Climate change, action, adaption \n",
       "• Energy efficiency \n",
       "• Environmental-responsible \n",
       "• Carbon-neutral; Climate-neutral; Net zero \n",
       "• Carbon-offsetting \n",
       "• Carbon-free \n",
       "• Clean technology \n",
       "• E-waste\n",
       "5\n",
       "\n",
       "\n",
       "https://www.menti.com/uns9d89kzn\n",
       "What is Sustainable \n",
       "Software Engineering?\n",
       "?\n",
       "6\n",
       "\n",
       "\n",
       "Sustainable Software \n",
       "Engineering is…\n",
       "7\n",
       "…the discipline that studies the process of creating software systems that are able \n",
       "to create value in the long term without hindering its surrounding environment.\n",
       "\n",
       "\n",
       "8\n",
       "Economical\n",
       "Social\n",
       "Technical\n",
       "Individual\n",
       "Environmental\n",
       "Sustainable\n",
       "Software\n",
       "Engineering\n",
       "⭐\n",
       "Technical \n",
       "⚙\n",
       "Economical \n",
       "💰\n",
       "Social \n",
       "👩💼👨💼👩💼👩💼\n",
       "I...<br>"
      ],
      "text/plain": [
       "<IPython.core.display.Markdown object>"
      ]
     },
     "metadata": {},
     "output_type": "display_data"
    },
    {
     "data": {
      "text/markdown": [
       "**Node ID:** 7b1aad2e-94e8-40e0-bfb0-d76fbdb919bd<br>**Similarity:** 0.21052353997475085<br>**Text:** Why?\n",
       "• Throughout your career you might: \n",
       "• Design/maintain/contract data centers \n",
       "• Set up operations/devops \n",
       "• Develop AI for IoT devices \n",
       "• Be the next CEO/CTO of a software company \n",
       "• Sustainability can be your main role: \n",
       "• Green Software Developer \n",
       "• Sustainability Consultant \n",
       "• Green Advocate  \n",
       "• Founder of a Green Tech startup (B2B?)\n",
       "28\n",
       "\n",
       "\n",
       "Format of classes\n",
       "• In-person. \n",
       "• Collegerama recordings. \n",
       "• Lectures and Labs. \n",
       "• Guest lectures. \n",
       "• Steering meetings (after week 5, new schedule)\n",
       "29<br>"
      ],
      "text/plain": [
       "<IPython.core.display.Markdown object>"
      ]
     },
     "metadata": {},
     "output_type": "display_data"
    }
   ],
   "source": [
    "for node in auto_merged_nodes:\n",
    "    display_source_node(node, source_length=1000)"
   ]
  },
  {
   "cell_type": "code",
   "execution_count": 31,
   "metadata": {},
   "outputs": [],
   "source": [
    "reranker = LLMRerank(\n",
    "    llm=llm,\n",
    "    choice_batch_size=5,\n",
    "    top_n=3,\n",
    ")"
   ]
  },
  {
   "cell_type": "code",
   "execution_count": 33,
   "metadata": {},
   "outputs": [],
   "source": [
    "reranked_nodes = reranker.postprocess_nodes(auto_merged_nodes, query_bundle=query_bundle)\n"
   ]
  },
  {
   "cell_type": "code",
   "execution_count": 35,
   "metadata": {},
   "outputs": [
    {
     "data": {
      "text/markdown": [
       "**Node ID:** f9ae3d5a-f81a-4519-a82d-c1891445dfb7<br>**Similarity:** 8.0<br>**Text:** 32\n",
       "https://mattermost.tudelft.nl/signup_user_complete/?id=1nj9tk6usjf8xmsws8wpq3s5uy&md=link&sbr=su\n",
       "\n",
       "\n",
       "Project 1\n",
       "• Goal: Measure the energy consumption of software applications. \n",
       "• Approach: energy measurement tools; use case testing. \n",
       "• Deliverable: blog-style report (approx. 2500 words) \n",
       "• Deadline: Week 3, Feb 28, 2025 \n",
       "• Group size: 4–5\n",
       "33<br>"
      ],
      "text/plain": [
       "<IPython.core.display.Markdown object>"
      ]
     },
     "metadata": {},
     "output_type": "display_data"
    },
    {
     "data": {
      "text/markdown": [
       "**Node ID:** c8d79871-0415-4f65-b4e3-84366389d1a6<br>**Similarity:** 6.0<br>**Text:** Rebound effect*\n",
       "• Energy consumption decreases ↓↓ but demand also increases ↑↑. \n",
       "• *a.k.a. Jevons Paradox in economics; Downs–Thomson paradox in mobility.\n",
       "Energy per prompt\n",
       "Prompts\n",
       "100\n",
       "80\n",
       "30\n",
       "38\n",
       "Chat \n",
       "GPT\n",
       "“Energy-efficient” \n",
       "Chat GPT\n",
       "0<br>"
      ],
      "text/plain": [
       "<IPython.core.display.Markdown object>"
      ]
     },
     "metadata": {},
     "output_type": "display_data"
    },
    {
     "data": {
      "text/markdown": [
       "**Node ID:** d40accf0-8b6e-4165-b85d-1e328df1cd7c<br>**Similarity:** 2.0<br>**Text:** Carolin Brandt \n",
       "C.E.Brandt@tudelft.nl \n",
       "Luís Cruz \n",
       "L.Cruz@tudelft.nl \n",
       "1. Intro Class\n",
       "Sustainable Software Engineering \n",
       "CS4575\n",
       "SustainableSE 2025\n",
       "Enrique Barba Roque \n",
       "E.BarbaRoque@tudelft.nl\n",
       "\n",
       "\n",
       "1. Intro to Sustainable SE \n",
       "2. Intro to the course\n",
       "2\n",
       "\n",
       "\n",
       "of the electricity consumed worldwide \n",
       "by 2040 will stem from ICT\n",
       "14%\n",
       "\n",
       "\n",
       "4\n",
       "https://xkcd.com/1007/\n",
       "\n",
       "\n",
       "Buzz words\n",
       "• Eco-friendly \n",
       "• Climate change, action, adaption \n",
       "• Energy efficiency \n",
       "• Environmental-responsible \n",
       "• Carbon-neutral; Climate-neutral; Net zero \n",
       "• Carbon-offsetting \n",
       "• Carbon-free \n",
       "• Clean technology \n",
       "• E-waste\n",
       "5\n",
       "\n",
       "\n",
       "https://www.menti.com/uns9d89kzn\n",
       "What is Sustainable \n",
       "Software Engineering?\n",
       "?\n",
       "6\n",
       "\n",
       "\n",
       "Sustainable Software \n",
       "Engineering is…\n",
       "7\n",
       "…the discipline that studies the process of creating software systems that are able \n",
       "to create value in the long term without hindering its surrounding environment.\n",
       "\n",
       "\n",
       "8\n",
       "Economical\n",
       "Social\n",
       "Technical\n",
       "Individual\n",
       "Environmental\n",
       "Sustainable\n",
       "Software\n",
       "Engineering\n",
       "⭐\n",
       "Technical \n",
       "⚙\n",
       "Economical \n",
       "💰\n",
       "Social \n",
       "👩💼👨💼👩💼👩💼\n",
       "I...<br>"
      ],
      "text/plain": [
       "<IPython.core.display.Markdown object>"
      ]
     },
     "metadata": {},
     "output_type": "display_data"
    }
   ],
   "source": [
    "for node in reranked_nodes:\n",
    "   display_source_node(node, source_length=1000)\n"
   ]
  }
 ],
 "metadata": {
  "kernelspec": {
   "display_name": "ir-env",
   "language": "python",
   "name": "python3"
  },
  "language_info": {
   "codemirror_mode": {
    "name": "ipython",
    "version": 3
   },
   "file_extension": ".py",
   "mimetype": "text/x-python",
   "name": "python",
   "nbconvert_exporter": "python",
   "pygments_lexer": "ipython3",
   "version": "3.10.16"
  }
 },
 "nbformat": 4,
 "nbformat_minor": 2
}
